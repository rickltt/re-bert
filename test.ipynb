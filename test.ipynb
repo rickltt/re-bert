{
 "cells": [
  {
   "cell_type": "code",
   "execution_count": 4,
   "metadata": {},
   "outputs": [],
   "source": [
    "from transformers import BertModel, BertTokenizer, BertConfig\n",
    "import numpy as np\n",
    "import os\n",
    "model_dir = '/home/tongtao.ling/ltt_code/bert/bert-base-uncased'\n",
    "bert = BertModel.from_pretrained(model_dir)\n",
    "tokenizer = BertTokenizer.from_pretrained(model_dir)\n",
    "config = BertConfig.from_pretrained(model_dir)"
   ]
  },
  {
   "cell_type": "code",
   "execution_count": 1,
   "metadata": {},
   "outputs": [],
   "source": [
    "from sklearn import datasets\n",
    "import utils\n",
    "iris = datasets.load_iris()\n",
    "x, y = iris[\"data\"], iris[\"target\"]"
   ]
  },
  {
   "cell_type": "code",
   "execution_count": 2,
   "metadata": {},
   "outputs": [],
   "source": [
    "from openTSNE import TSNE\n",
    "embedding = TSNE().fit(x)"
   ]
  },
  {
   "cell_type": "code",
   "execution_count": 3,
   "metadata": {},
   "outputs": [
    {
     "ename": "AttributeError",
     "evalue": "module 'utils' has no attribute 'plot'",
     "output_type": "error",
     "traceback": [
      "\u001b[0;31m---------------------------------------------------------------------------\u001b[0m",
      "\u001b[0;31mAttributeError\u001b[0m                            Traceback (most recent call last)",
      "\u001b[0;32m/tmp/ipykernel_15823/4117271847.py\u001b[0m in \u001b[0;36m<module>\u001b[0;34m\u001b[0m\n\u001b[0;32m----> 1\u001b[0;31m \u001b[0mutils\u001b[0m\u001b[0;34m.\u001b[0m\u001b[0mplot\u001b[0m\u001b[0;34m(\u001b[0m\u001b[0membedding\u001b[0m\u001b[0;34m,\u001b[0m \u001b[0my\u001b[0m\u001b[0;34m,\u001b[0m \u001b[0mcolors\u001b[0m\u001b[0;34m=\u001b[0m\u001b[0mutils\u001b[0m\u001b[0;34m.\u001b[0m\u001b[0mMOUSE_10X_COLORS\u001b[0m\u001b[0;34m)\u001b[0m\u001b[0;34m\u001b[0m\u001b[0m\n\u001b[0m",
      "\u001b[0;31mAttributeError\u001b[0m: module 'utils' has no attribute 'plot'"
     ]
    }
   ],
   "source": [
    "utils.plot(embedding, y, colors=utils.MOUSE_10X_COLORS)"
   ]
  },
  {
   "cell_type": "code",
   "execution_count": 8,
   "metadata": {},
   "outputs": [
    {
     "data": {
      "text/plain": [
       "TSNEEmbedding([[-2.10943862e+01,  3.01513678e-02],\n",
       "               [-1.94684625e+01,  1.92251806e+00],\n",
       "               [-1.86247838e+01,  1.16480732e+00],\n",
       "               [-1.85243261e+01,  1.51962413e+00],\n",
       "               [-2.08843549e+01, -4.27512289e-01],\n",
       "               [-2.24055810e+01, -1.56105480e+00],\n",
       "               [-1.84493452e+01,  4.89759765e-01],\n",
       "               [-2.03588916e+01,  3.13614987e-01],\n",
       "               [-1.80317879e+01,  2.12854290e+00],\n",
       "               [-1.95957335e+01,  1.44996448e+00],\n",
       "               [-2.23883585e+01, -7.07566079e-01],\n",
       "               [-1.94727486e+01,  2.32883518e-01],\n",
       "               [-1.90703737e+01,  1.96236413e+00],\n",
       "               [-1.75174452e+01,  1.83243518e+00],\n",
       "               [-2.35326394e+01, -1.34504824e+00],\n",
       "               [-2.33970073e+01, -1.91563314e+00],\n",
       "               [-2.27527919e+01, -1.25863620e+00],\n",
       "               [-2.10524283e+01, -1.80037018e-01],\n",
       "               [-2.31777189e+01, -9.15609394e-01],\n",
       "               [-2.15825042e+01, -1.20449922e+00],\n",
       "               [-2.22459398e+01,  2.82126675e-01],\n",
       "               [-2.12742375e+01, -1.05386066e+00],\n",
       "               [-1.78039464e+01,  2.16474935e-02],\n",
       "               [-1.99455152e+01, -9.28639464e-01],\n",
       "               [-1.91628518e+01, -3.43856810e-01],\n",
       "               [-1.98741890e+01,  1.86946819e+00],\n",
       "               [-2.00967501e+01, -4.88371669e-01],\n",
       "               [-2.15094574e+01, -1.21014435e-01],\n",
       "               [-2.13548331e+01,  4.30508133e-01],\n",
       "               [-1.89755689e+01,  8.51106329e-01],\n",
       "               [-1.92420244e+01,  1.21982871e+00],\n",
       "               [-2.21568205e+01,  1.71506663e-01],\n",
       "               [-2.23853297e+01, -1.95278681e+00],\n",
       "               [-2.30909618e+01, -1.81748291e+00],\n",
       "               [-1.95706944e+01,  1.35245633e+00],\n",
       "               [-2.03511684e+01,  1.40290395e+00],\n",
       "               [-2.26395739e+01, -6.83000794e-02],\n",
       "               [-2.04227121e+01, -2.06730787e-01],\n",
       "               [-1.79020787e+01,  1.86081042e+00],\n",
       "               [-2.08916859e+01,  3.79195083e-01],\n",
       "               [-2.06710679e+01,  5.99353623e-02],\n",
       "               [-1.81723926e+01,  2.85660643e+00],\n",
       "               [-1.77919947e+01,  1.27583976e+00],\n",
       "               [-2.02825301e+01, -1.21614556e+00],\n",
       "               [-2.13499606e+01, -1.94894178e+00],\n",
       "               [-1.90565838e+01,  1.92676354e+00],\n",
       "               [-2.16050305e+01, -1.31473287e+00],\n",
       "               [-1.84012054e+01,  1.14779347e+00],\n",
       "               [-2.20633111e+01, -7.55363527e-01],\n",
       "               [-2.02971189e+01,  7.69085384e-01],\n",
       "               [ 1.00632698e+01,  2.03649781e+00],\n",
       "               [ 8.83077763e+00,  7.72448965e-01],\n",
       "               [ 1.05106789e+01,  1.76368654e+00],\n",
       "               [ 3.96456010e+00, -4.22808239e-01],\n",
       "               [ 9.25630573e+00,  1.00165846e+00],\n",
       "               [ 6.19812853e+00, -8.38011012e-01],\n",
       "               [ 9.13652412e+00,  1.51127792e-01],\n",
       "               [ 2.39508694e+00, -4.06094023e-01],\n",
       "               [ 9.20214760e+00,  1.42367312e+00],\n",
       "               [ 3.97573855e+00, -1.16253675e+00],\n",
       "               [ 2.53160611e+00, -5.70260655e-01],\n",
       "               [ 6.38899913e+00, -1.94495496e-01],\n",
       "               [ 4.31944273e+00,  9.56956582e-01],\n",
       "               [ 8.34549584e+00, -1.32180907e-01],\n",
       "               [ 3.73189971e+00, -7.15235702e-01],\n",
       "               [ 9.12250478e+00,  1.72331472e+00],\n",
       "               [ 6.44384633e+00, -1.20588669e+00],\n",
       "               [ 4.88590477e+00,  2.47666825e-01],\n",
       "               [ 6.97728826e+00,  1.73686398e+00],\n",
       "               [ 4.05509487e+00,  2.53005817e-02],\n",
       "               [ 9.24456988e+00, -1.26111211e+00],\n",
       "               [ 5.73086918e+00,  5.72050631e-01],\n",
       "               [ 1.03881607e+01, -1.36209989e-01],\n",
       "               [ 7.96364640e+00,  1.15978797e-01],\n",
       "               [ 8.03346002e+00,  1.12436886e+00],\n",
       "               [ 8.85447493e+00,  1.48392331e+00],\n",
       "               [ 1.00823521e+01,  1.54071846e+00],\n",
       "               [ 1.12907422e+01,  1.18164033e+00],\n",
       "               [ 7.56560448e+00, -2.81361950e-01],\n",
       "               [ 3.40784167e+00,  3.22488074e-01],\n",
       "               [ 3.62736243e+00, -8.56526131e-02],\n",
       "               [ 3.37901857e+00, -2.51440046e-02],\n",
       "               [ 4.62107937e+00,  1.44466076e-01],\n",
       "               [ 1.07857038e+01, -1.27390478e+00],\n",
       "               [ 6.04924288e+00, -1.52727843e+00],\n",
       "               [ 8.20235808e+00, -9.01568576e-01],\n",
       "               [ 9.84739760e+00,  1.50811122e+00],\n",
       "               [ 6.92268169e+00,  1.67005327e+00],\n",
       "               [ 5.35373740e+00, -6.90932170e-01],\n",
       "               [ 4.24762562e+00, -5.75240623e-01],\n",
       "               [ 5.05697827e+00, -1.16511281e+00],\n",
       "               [ 8.10810810e+00, -6.62998745e-02],\n",
       "               [ 4.67508855e+00,  1.62370770e-01],\n",
       "               [ 2.45101182e+00, -3.68061336e-01],\n",
       "               [ 4.99618771e+00, -7.02671598e-01],\n",
       "               [ 5.65827329e+00, -4.17026094e-01],\n",
       "               [ 5.60129187e+00, -4.65671066e-01],\n",
       "               [ 7.30355171e+00,  5.37545799e-01],\n",
       "               [ 2.26859457e+00, -2.75048052e-01],\n",
       "               [ 5.16340641e+00, -3.15766294e-01],\n",
       "               [ 1.56383607e+01,  1.60565961e+00],\n",
       "               [ 1.07654444e+01, -2.06829272e+00],\n",
       "               [ 1.63102571e+01, -6.81591051e-02],\n",
       "               [ 1.36059942e+01, -6.34576006e-01],\n",
       "               [ 1.50426443e+01,  3.37920569e-02],\n",
       "               [ 1.77359172e+01, -2.94360907e-01],\n",
       "               [ 4.94103698e+00, -2.23910035e+00],\n",
       "               [ 1.71157215e+01, -6.10631899e-01],\n",
       "               [ 1.48428616e+01, -1.09040679e+00],\n",
       "               [ 1.69298920e+01,  7.78529339e-01],\n",
       "               [ 1.31630628e+01,  8.05472205e-01],\n",
       "               [ 1.27833336e+01, -4.11222553e-01],\n",
       "               [ 1.47934963e+01,  2.89546316e-01],\n",
       "               [ 1.06618066e+01, -2.48213469e+00],\n",
       "               [ 1.12655590e+01, -2.64049590e+00],\n",
       "               [ 1.41954957e+01,  1.15803272e+00],\n",
       "               [ 1.37316981e+01, -2.26868681e-01],\n",
       "               [ 1.79218065e+01,  4.51097871e-01],\n",
       "               [ 1.80207801e+01, -5.86057500e-01],\n",
       "               [ 9.56107406e+00, -2.21349590e+00],\n",
       "               [ 1.57267955e+01,  5.29670681e-01],\n",
       "               [ 1.04237150e+01, -2.48916863e+00],\n",
       "               [ 1.78441828e+01, -5.04044794e-01],\n",
       "               [ 1.07788817e+01, -5.34542283e-01],\n",
       "               [ 1.53826795e+01,  4.95431003e-01],\n",
       "               [ 1.66342087e+01, -3.77207778e-01],\n",
       "               [ 1.02254624e+01, -6.74019257e-01],\n",
       "               [ 1.00132098e+01, -1.00621625e+00],\n",
       "               [ 1.42474518e+01, -3.67540493e-01],\n",
       "               [ 1.63958887e+01, -7.57441572e-01],\n",
       "               [ 1.70208663e+01, -6.02378027e-01],\n",
       "               [ 1.79056871e+01,  4.51422071e-01],\n",
       "               [ 1.43887449e+01, -2.52079560e-01],\n",
       "               [ 1.09487483e+01, -2.50688954e-01],\n",
       "               [ 1.24398197e+01, -1.39915323e+00],\n",
       "               [ 1.74058837e+01, -9.28369963e-02],\n",
       "               [ 1.49829016e+01,  1.60504220e+00],\n",
       "               [ 1.36397513e+01, -1.97399772e-01],\n",
       "               [ 9.65630208e+00, -1.12031834e+00],\n",
       "               [ 1.47302007e+01,  5.62389694e-01],\n",
       "               [ 1.51552742e+01,  7.93362941e-01],\n",
       "               [ 1.39831290e+01,  1.12292306e+00],\n",
       "               [ 1.07654339e+01, -2.06832025e+00],\n",
       "               [ 1.59195735e+01,  5.88074806e-01],\n",
       "               [ 1.55772783e+01,  1.10309253e+00],\n",
       "               [ 1.40628354e+01,  8.75664084e-01],\n",
       "               [ 1.12862842e+01, -7.60087741e-01],\n",
       "               [ 1.32693754e+01,  4.31918561e-01],\n",
       "               [ 1.45048054e+01,  1.72215098e+00],\n",
       "               [ 1.04118682e+01, -1.59778896e+00]])"
      ]
     },
     "execution_count": 8,
     "metadata": {},
     "output_type": "execute_result"
    }
   ],
   "source": [
    "embedding"
   ]
  },
  {
   "cell_type": "code",
   "execution_count": null,
   "metadata": {},
   "outputs": [],
   "source": []
  },
  {
   "cell_type": "code",
   "execution_count": 6,
   "metadata": {},
   "outputs": [
    {
     "data": {
      "text/plain": [
       "False"
      ]
     },
     "execution_count": 6,
     "metadata": {},
     "output_type": "execute_result"
    }
   ],
   "source": [
    "config.is_decoder"
   ]
  },
  {
   "cell_type": "code",
   "execution_count": 3,
   "metadata": {},
   "outputs": [
    {
     "name": "stdout",
     "output_type": "stream",
     "text": [
      "{'input_ids': [101, 1045, 2066, 2017, 2200, 2172, 1012, 102, 2021, 2017, 2079, 2025, 2066, 2033, 1012, 102, 0, 0, 0, 0, 0, 0, 0, 0, 0, 0, 0, 0, 0, 0, 0, 0, 0, 0, 0, 0, 0, 0, 0, 0, 0, 0, 0, 0, 0, 0, 0, 0, 0, 0, 0, 0, 0, 0, 0, 0, 0, 0, 0, 0, 0, 0, 0, 0, 0, 0, 0, 0, 0, 0, 0, 0, 0, 0, 0, 0, 0, 0, 0, 0, 0, 0, 0, 0, 0, 0, 0, 0, 0, 0, 0, 0, 0, 0, 0, 0, 0, 0, 0, 0, 0, 0, 0, 0, 0, 0, 0, 0, 0, 0, 0, 0, 0, 0, 0, 0, 0, 0, 0, 0, 0, 0, 0, 0, 0, 0, 0, 0], 'attention_mask': [1, 1, 1, 1, 1, 1, 1, 1, 1, 1, 1, 1, 1, 1, 1, 1, 0, 0, 0, 0, 0, 0, 0, 0, 0, 0, 0, 0, 0, 0, 0, 0, 0, 0, 0, 0, 0, 0, 0, 0, 0, 0, 0, 0, 0, 0, 0, 0, 0, 0, 0, 0, 0, 0, 0, 0, 0, 0, 0, 0, 0, 0, 0, 0, 0, 0, 0, 0, 0, 0, 0, 0, 0, 0, 0, 0, 0, 0, 0, 0, 0, 0, 0, 0, 0, 0, 0, 0, 0, 0, 0, 0, 0, 0, 0, 0, 0, 0, 0, 0, 0, 0, 0, 0, 0, 0, 0, 0, 0, 0, 0, 0, 0, 0, 0, 0, 0, 0, 0, 0, 0, 0, 0, 0, 0, 0, 0, 0]}\n"
     ]
    }
   ],
   "source": [
    "s = 'i like you very much. [SEP] but you do not like me.'\n",
    "res = tokenizer.encode_plus(s, padding=\"max_length\", max_length=128,truncation=True, return_token_type_ids = False)\n",
    "print(res)"
   ]
  },
  {
   "cell_type": "code",
   "execution_count": 6,
   "metadata": {},
   "outputs": [
    {
     "data": {
      "text/plain": [
       "['[CLS]',\n",
       " 'i',\n",
       " 'like',\n",
       " 'you',\n",
       " 'very',\n",
       " 'much',\n",
       " '.',\n",
       " 'but',\n",
       " 'you',\n",
       " 'do',\n",
       " 'not',\n",
       " 'like',\n",
       " 'me',\n",
       " '.',\n",
       " '[SEP]']"
      ]
     },
     "execution_count": 6,
     "metadata": {},
     "output_type": "execute_result"
    }
   ],
   "source": [
    "tokenizer.convert_ids_to_tokens(res['input_ids'])"
   ]
  },
  {
   "cell_type": "code",
   "execution_count": 1,
   "metadata": {},
   "outputs": [],
   "source": [
    "from utils import RetriMetric\n",
    "from nltk import word_tokenize\n",
    "from nltk.corpus import stopwords\n",
    "stops = stopwords.words('english')\n",
    "stops.extend([',','.','``'])\n",
    "\n",
    "metric = RetriMetric('./datasets/semeval14/Laptops_Train.xml.seg', word_tokenize, stops)"
   ]
  },
  {
   "cell_type": "code",
   "execution_count": 2,
   "metadata": {},
   "outputs": [],
   "source": [
    "sent = 'easy to start up and does not overheat as much as other laptops .'\n",
    "sims = metric.simall(sent, 'tfidf')"
   ]
  },
  {
   "cell_type": "code",
   "execution_count": 3,
   "metadata": {},
   "outputs": [],
   "source": [
    "sorted_idx = sorted(range(len(sims)), key=lambda k: sims[k], reverse=True)"
   ]
  },
  {
   "cell_type": "code",
   "execution_count": 4,
   "metadata": {},
   "outputs": [
    {
     "data": {
      "text/plain": [
       "[4, 770, 829, 281, 1111, 409, 862, 67, 1378, 523]"
      ]
     },
     "execution_count": 4,
     "metadata": {},
     "output_type": "execute_result"
    }
   ],
   "source": [
    "sorted_idx[:10]"
   ]
  },
  {
   "cell_type": "code",
   "execution_count": 11,
   "metadata": {},
   "outputs": [
    {
     "data": {
      "text/plain": [
       "'the price premium is a little much , but when you start looking at the features it is worth the added cash .'"
      ]
     },
     "execution_count": 11,
     "metadata": {},
     "output_type": "execute_result"
    }
   ],
   "source": [
    "metric.raw_data[281]"
   ]
  },
  {
   "cell_type": "code",
   "execution_count": 13,
   "metadata": {},
   "outputs": [],
   "source": [
    "import numpy as np\n",
    "retrieval_corpus = np.load(\"./dense/{}.npy\".format('laptop'))\n",
    "dense_data = np.load(\"./dense/{}_{}.npy\".format('laptop', 'train'))"
   ]
  },
  {
   "cell_type": "code",
   "execution_count": 14,
   "metadata": {},
   "outputs": [],
   "source": [
    "sims = []\n",
    "for re_vec in retrieval_corpus:\n",
    "    vec = dense_data[9]\n",
    "    product = np.dot(re_vec,vec)\n",
    "    sims.append(product) "
   ]
  },
  {
   "cell_type": "code",
   "execution_count": 15,
   "metadata": {},
   "outputs": [],
   "source": [
    "sorted_idx = sorted(range(len(sims)), key=lambda k: sims[k], reverse=True)"
   ]
  },
  {
   "cell_type": "code",
   "execution_count": 17,
   "metadata": {},
   "outputs": [
    {
     "data": {
      "text/plain": [
       "[4, 953, 3, 178, 1135, 592, 1008, 567, 550, 551]"
      ]
     },
     "execution_count": 17,
     "metadata": {},
     "output_type": "execute_result"
    }
   ],
   "source": [
    "sorted_idx[:10]"
   ]
  },
  {
   "cell_type": "code",
   "execution_count": 25,
   "metadata": {},
   "outputs": [
    {
     "data": {
      "text/plain": [
       "'the mac takes about the same amount of starting-up time as the average pc , but keeps itself cleaned up and ready to use .'"
      ]
     },
     "execution_count": 25,
     "metadata": {},
     "output_type": "execute_result"
    }
   ],
   "source": [
    "metric.raw_data[567]"
   ]
  },
  {
   "cell_type": "code",
   "execution_count": 2,
   "metadata": {},
   "outputs": [],
   "source": [
    "dataset_files = {\n",
    "    'twitter': {\n",
    "        'train': './datasets/acl-14-short-data/train.raw',\n",
    "        'test': './datasets/acl-14-short-data/test.raw'\n",
    "    },\n",
    "    'restaurant': {\n",
    "        'train': './datasets/semeval14/Restaurants_Train.xml.seg',\n",
    "        'test': './datasets/semeval14/Restaurants_Test_Gold.xml.seg'\n",
    "    },\n",
    "    'laptop': {\n",
    "        'train': './datasets/semeval14/Laptops_Train.xml.seg',\n",
    "        'test': './datasets/semeval14/Laptops_Test_Gold.xml.seg'\n",
    "    }\n",
    "}"
   ]
  },
  {
   "cell_type": "code",
   "execution_count": 7,
   "metadata": {},
   "outputs": [
    {
     "data": {
      "text/plain": [
       "'./datasets/acl-14-short-data/train.raw'"
      ]
     },
     "execution_count": 7,
     "metadata": {},
     "output_type": "execute_result"
    }
   ],
   "source": [
    "dataset_files['twitter']['train']"
   ]
  },
  {
   "cell_type": "code",
   "execution_count": 2,
   "metadata": {},
   "outputs": [],
   "source": [
    "# def sim(vecs, vec):\n",
    "#     res = []\n",
    "#     for v in vecs:\n",
    "#         product = np.dot(v , vec)\n",
    "#         res.append(product)\n",
    "#     return res\n",
    "def retrival_corpus(dataset):\n",
    "    fname = dataset_files[dataset]['train']\n",
    "    fin = open(fname, 'r', encoding='utf-8', newline='\\n', errors='ignore')\n",
    "    lines = fin.readlines()\n",
    "    fin.close()\n",
    "    raw_data = []\n",
    "    for i in range(0, len(lines), 3):\n",
    "        text_left, _, text_right = [s.lower().strip() for s in lines[i].partition(\"$T$\")]\n",
    "        aspect = lines[i + 1].lower().strip()\n",
    "        text = text_left + \" \" + aspect + \" \" + text_right\n",
    "        if text in raw_data:\n",
    "            continue\n",
    "        raw_data.append(text)\n",
    "    print(len(raw_data))\n",
    "    vecs = []\n",
    "    for instance in raw_data:\n",
    "        tokens = tokenizer.encode_plus(text=instance,return_tensors='pt')\n",
    "        model_out = bert(**tokens)\n",
    "        vec = model_out[0].mean(1).squeeze(0)\n",
    "        vec = vec.detach().numpy()\n",
    "        vecs.append(vec) \n",
    "    # res = []\n",
    "    # for v in vecs:\n",
    "    #     s = sim(vecs, v)\n",
    "    #     res.append(s)\n",
    "    # res = np.array(res)\n",
    "    vecs = np.array(vecs)\n",
    "    print(vecs.shape)\n",
    "    if not os.path.exists('dense'):\n",
    "        os.mkdir('dense')\n",
    "\n",
    "    np.save(os.path.join('./dense/',dataset),vecs)\n",
    "    "
   ]
  },
  {
   "cell_type": "code",
   "execution_count": 8,
   "metadata": {},
   "outputs": [],
   "source": [
    "def compute_vecs(dataset, mode):\n",
    "    fname = dataset_files[dataset][mode]\n",
    "    fin = open(fname, 'r', encoding='utf-8', newline='\\n', errors='ignore')\n",
    "    lines = fin.readlines()\n",
    "    fin.close()\n",
    "    raw_data = []\n",
    "    for i in range(0, len(lines), 3):\n",
    "        text_left, _, text_right = [s.lower().strip() for s in lines[i].partition(\"$T$\")]\n",
    "        aspect = lines[i + 1].lower().strip()\n",
    "        text = text_left + \" \" + aspect + \" \" + text_right\n",
    "        raw_data.append(text)\n",
    "    print(len(raw_data))\n",
    "    vecs = []\n",
    "    for instance in raw_data:\n",
    "        tokens = tokenizer.encode_plus(text=instance,return_tensors='pt')\n",
    "        model_out = bert(**tokens)\n",
    "        vec = model_out[0].mean(1).squeeze(0)\n",
    "        vec = vec.detach().numpy()\n",
    "        vecs.append(vec) \n",
    "\n",
    "    vecs = np.array(vecs)\n",
    "    print(vecs.shape)\n",
    "    if not os.path.exists('dense'):\n",
    "        os.mkdir('dense')\n",
    "\n",
    "    np.save(os.path.join('./dense/',dataset + '_' + mode),vecs)"
   ]
  },
  {
   "cell_type": "code",
   "execution_count": 5,
   "metadata": {},
   "outputs": [
    {
     "name": "stdout",
     "output_type": "stream",
     "text": [
      "twitter\n",
      "6242\n",
      "(6242, 768)\n",
      "restaurant\n",
      "2066\n",
      "(2066, 768)\n",
      "laptop\n",
      "1524\n",
      "(1524, 768)\n"
     ]
    }
   ],
   "source": [
    "for dataset in dataset_files:\n",
    "    print(dataset)\n",
    "    retrival_corpus(dataset)"
   ]
  },
  {
   "cell_type": "code",
   "execution_count": 10,
   "metadata": {},
   "outputs": [
    {
     "name": "stdout",
     "output_type": "stream",
     "text": [
      "twitter\n",
      "<class 'str'>\n",
      "train\n",
      "{'twitter': {'train': './datasets/acl-14-short-data/train.raw', 'test': './datasets/acl-14-short-data/test.raw'}, 'restaurant': {'train': './datasets/semeval14/Restaurants_Train.xml.seg', 'test': './datasets/semeval14/Restaurants_Test_Gold.xml.seg'}, 'laptop': {'train': './datasets/semeval14/Laptops_Train.xml.seg', 'test': './datasets/semeval14/Laptops_Test_Gold.xml.seg'}}\n",
      "6248\n",
      "(6248, 768)\n",
      "test\n",
      "{'twitter': {'train': './datasets/acl-14-short-data/train.raw', 'test': './datasets/acl-14-short-data/test.raw'}, 'restaurant': {'train': './datasets/semeval14/Restaurants_Train.xml.seg', 'test': './datasets/semeval14/Restaurants_Test_Gold.xml.seg'}, 'laptop': {'train': './datasets/semeval14/Laptops_Train.xml.seg', 'test': './datasets/semeval14/Laptops_Test_Gold.xml.seg'}}\n",
      "692\n",
      "(692, 768)\n",
      "restaurant\n",
      "<class 'str'>\n",
      "train\n",
      "{'twitter': {'train': './datasets/acl-14-short-data/train.raw', 'test': './datasets/acl-14-short-data/test.raw'}, 'restaurant': {'train': './datasets/semeval14/Restaurants_Train.xml.seg', 'test': './datasets/semeval14/Restaurants_Test_Gold.xml.seg'}, 'laptop': {'train': './datasets/semeval14/Laptops_Train.xml.seg', 'test': './datasets/semeval14/Laptops_Test_Gold.xml.seg'}}\n",
      "3608\n",
      "(3608, 768)\n",
      "test\n",
      "{'twitter': {'train': './datasets/acl-14-short-data/train.raw', 'test': './datasets/acl-14-short-data/test.raw'}, 'restaurant': {'train': './datasets/semeval14/Restaurants_Train.xml.seg', 'test': './datasets/semeval14/Restaurants_Test_Gold.xml.seg'}, 'laptop': {'train': './datasets/semeval14/Laptops_Train.xml.seg', 'test': './datasets/semeval14/Laptops_Test_Gold.xml.seg'}}\n",
      "1120\n",
      "(1120, 768)\n",
      "laptop\n",
      "<class 'str'>\n",
      "train\n",
      "{'twitter': {'train': './datasets/acl-14-short-data/train.raw', 'test': './datasets/acl-14-short-data/test.raw'}, 'restaurant': {'train': './datasets/semeval14/Restaurants_Train.xml.seg', 'test': './datasets/semeval14/Restaurants_Test_Gold.xml.seg'}, 'laptop': {'train': './datasets/semeval14/Laptops_Train.xml.seg', 'test': './datasets/semeval14/Laptops_Test_Gold.xml.seg'}}\n",
      "2328\n",
      "(2328, 768)\n",
      "test\n",
      "{'twitter': {'train': './datasets/acl-14-short-data/train.raw', 'test': './datasets/acl-14-short-data/test.raw'}, 'restaurant': {'train': './datasets/semeval14/Restaurants_Train.xml.seg', 'test': './datasets/semeval14/Restaurants_Test_Gold.xml.seg'}, 'laptop': {'train': './datasets/semeval14/Laptops_Train.xml.seg', 'test': './datasets/semeval14/Laptops_Test_Gold.xml.seg'}}\n",
      "638\n",
      "(638, 768)\n"
     ]
    }
   ],
   "source": [
    "for dataset,mode in dataset_files.items():\n",
    "    print(dataset)\n",
    "    for i in mode:\n",
    "        print(i)\n",
    "        compute_vecs(dataset, i)"
   ]
  },
  {
   "cell_type": "code",
   "execution_count": 5,
   "metadata": {},
   "outputs": [],
   "source": [
    "data = np.load(\"./dense/laptop_full.npy\")"
   ]
  },
  {
   "cell_type": "code",
   "execution_count": 6,
   "metadata": {},
   "outputs": [
    {
     "data": {
      "text/plain": [
       "(2328, 768)"
      ]
     },
     "execution_count": 6,
     "metadata": {},
     "output_type": "execute_result"
    }
   ],
   "source": [
    "data.shape"
   ]
  },
  {
   "cell_type": "code",
   "execution_count": 1,
   "metadata": {},
   "outputs": [],
   "source": [
    "def f1(p,r):\n",
    "    return (2*p*r) / (p+r)"
   ]
  },
  {
   "cell_type": "code",
   "execution_count": 35,
   "metadata": {},
   "outputs": [
    {
     "data": {
      "text/plain": [
       "74.0735492577598"
      ]
     },
     "execution_count": 35,
     "metadata": {},
     "output_type": "execute_result"
    }
   ],
   "source": [
    "f1(75.5,72.7)"
   ]
  },
  {
   "cell_type": "code",
   "execution_count": null,
   "metadata": {},
   "outputs": [],
   "source": []
  }
 ],
 "metadata": {
  "kernelspec": {
   "display_name": "absa",
   "language": "python",
   "name": "python3"
  },
  "language_info": {
   "codemirror_mode": {
    "name": "ipython",
    "version": 3
   },
   "file_extension": ".py",
   "mimetype": "text/x-python",
   "name": "python",
   "nbconvert_exporter": "python",
   "pygments_lexer": "ipython3",
   "version": "3.7.0"
  },
  "orig_nbformat": 4,
  "vscode": {
   "interpreter": {
    "hash": "d35132c46f3e94234a9e4608f15f63efd71529fcd7db3edc81e9ccd9411ce205"
   }
  }
 },
 "nbformat": 4,
 "nbformat_minor": 2
}
